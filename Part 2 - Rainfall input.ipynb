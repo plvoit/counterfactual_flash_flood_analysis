{
 "cells": [
  {
   "cell_type": "markdown",
   "source": [
    "# Part 2 - Rainfall input\n",
    "\n",
    "In this notebook demonstrates how the rainfall data is extracted from RADKLIM data as time series for every subbasins and how the counterfactuals are created. In the second part we calculate the effective rainfall time series.\n",
    "For this example we supply the RADKLIM data for the event NW/Jul21 which has been downloaded from the RADKLIM data from the DWD Open Data Server (ref). The files were then compiled using the package radolan_to_netcdf (ref).\n",
    "\n",
    "We supply following data:\n",
    "- **nw_jul21.nc**: NetCDF containing the RADKLIM precipitation estimates for the NW/JUL21 event.\n",
    "\n",
    "We then compute the precipitation time series for all subbasins for the NW/Jul21 event and create counterfactuals by moving the centroid (cell with the highest hourly rainfall) to every subbasin in the data set.\n",
    "\n",
    "This script is based on the tutorial on the wradlib homepage: https://docs.wradlib.org/en/latest/notebooks/workflow/recipe5.html. Unlike other packages the extraction of rainfall series for subbasins is quite precise. With the 1 km grid of RADKLIM some cells might cover a subbasin just a little bit. The wradlib algorithm computes the weighted areal average, while most other methods either use the average of all fully included cells, or the average of all cells with an overlap.\n",
    "\n",
    "As a second step we also calculate the effective precipitation from the RADKLIM precipitation time series."
   ],
   "metadata": {
    "collapsed": false
   },
   "id": "3edef40cbc593b85"
  },
  {
   "cell_type": "code",
   "execution_count": 1,
   "outputs": [],
   "source": [
    "import pandas as pd\n",
    "import counterfactual_precipitation as cp\n",
    "import geopandas as gpd\n",
    "import pyproj\n",
    "from osgeo import osr\n",
    "import wradlib as wrl\n",
    "import os\n",
    "import xarray as xr\n",
    "import numpy as np"
   ],
   "metadata": {
    "collapsed": false,
    "ExecuteTime": {
     "end_time": "2023-12-20T10:47:42.969171044Z",
     "start_time": "2023-12-20T10:47:40.214329488Z"
    }
   },
   "id": "521df6b1db2bf7af"
  },
  {
   "cell_type": "code",
   "execution_count": 3,
   "outputs": [],
   "source": [
    "# create the files for the projection information\n",
    "radolanwkt = \"\"\"PROJCS[\"Radolan Projection\",\n",
    "    GEOGCS[\"Radolan Coordinate System\",\n",
    "        DATUM[\"Radolan_Kugel\",\n",
    "            SPHEROID[\"Erdkugel\",6370040,0]],\n",
    "        PRIMEM[\"Greenwich\",0,\n",
    "            AUTHORITY[\"EPSG\",\"8901\"]],\n",
    "        UNIT[\"degree\",0.0174532925199433,\n",
    "            AUTHORITY[\"EPSG\",\"9122\"]]],\n",
    "    PROJECTION[\"Polar_Stereographic\"],\n",
    "    PARAMETER[\"latitude_of_origin\",90],\n",
    "    PARAMETER[\"central_meridian\",10],\n",
    "    PARAMETER[\"scale_factor\",0.933012701892],\n",
    "    PARAMETER[\"false_easting\",0],\n",
    "    PARAMETER[\"false_northing\",0],\n",
    "    UNIT[\"kilometre\",1,\n",
    "        AUTHORITY[\"EPSG\",\"9036\"]],\n",
    "    AXIS[\"Easting\",SOUTH],\n",
    "    AXIS[\"Northing\",SOUTH]]\n",
    "\"\"\"\n",
    "radolanproj = pyproj.CRS.from_wkt(radolanwkt)\n",
    "proj_stereo = wrl.georef.create_osr(\"dwd-radolan-sphere\")\n",
    "\n",
    "# This is our target projection (UTM)\n",
    "proj_utm = osr.SpatialReference()\n",
    "proj_utm.ImportFromEPSG(32632)\n",
    "\n",
    "\n",
    "event_id = \"WG/Jul21\"\n",
    "subbasins = gpd.read_file(\"output/gis/subbasins_info.gpkg\")\n",
    "#project the subbasin shapefile to UTM\n",
    "subbasins_utm = subbasins.to_crs(\"EPSG:32632\")\n",
    "subbasins_utm = subbasins_utm[[\"sub_id\", \"geometry\"]]\n",
    "subbasins_utm.to_file(\"output/gis/subbasins_utm.gpkg\")\n",
    "\n",
    "subbasins = subbasins.to_crs(radolanproj)\n",
    "\n",
    "event = xr.open_dataset(\"input/nw_jul21.nc\")\n",
    "event = event.rainfall_amount\n",
    "\n",
    "#get the coordinates of the centroid\n",
    "t_max, y_max, x_max = np.argwhere(event.values == np.nanmax(event.values))[0]\n",
    "centroid_x_coord = event.x[x_max].item()\n",
    "centroid_y_coord = event.y[y_max].item()\n",
    "original_centroid = (centroid_x_coord, centroid_y_coord)\n",
    "\n",
    "if not os.path.exists(\"output/precipitation\"):\n",
    "    os.mkdir(\"output/precipitation\")"
   ],
   "metadata": {
    "collapsed": false,
    "ExecuteTime": {
     "end_time": "2023-12-20T10:40:56.739609118Z",
     "start_time": "2023-12-20T10:40:56.185022049Z"
    }
   },
   "id": "8e7c0456bce22bce"
  },
  {
   "cell_type": "markdown",
   "source": [
    "## Extract precipitation time series for the original event (-999) and all counterfactuals\n",
    "For this we use the same function as below but we manipulate the subbasin shapefile and add one basin, which has the same centroid as the centroid of the original event. The subbasin ID -999 desribes the event in its original spatial position."
   ],
   "metadata": {
    "collapsed": false
   },
   "id": "e3224c49594f2e7f"
  },
  {
   "cell_type": "code",
   "execution_count": 4,
   "outputs": [],
   "source": [
    "original_event = {\"sub_id\": -999, \"geometry\": subbasins.geometry[0]} #the geometry column won't be used, so we just copy another geometry\n",
    "original_event = gpd.GeoDataFrame([original_event], geometry='geometry')\n",
    "original_event.set_crs(radolanproj, inplace=True)\n",
    "\n",
    "subbasins = gpd.GeoDataFrame(pd.concat([subbasins, original_event], ignore_index=True))\n",
    "\n",
    "if not os.path.exists(\"output/basins/-999\"):\n",
    "    os.mkdir(\"output/basins/-999\")"
   ],
   "metadata": {
    "collapsed": false,
    "ExecuteTime": {
     "end_time": "2023-12-20T10:41:01.468416041Z",
     "start_time": "2023-12-20T10:41:01.423792576Z"
    }
   },
   "id": "e14a743e343d4fd4"
  },
  {
   "cell_type": "code",
   "execution_count": null,
   "outputs": [],
   "source": [
    "for id in subbasins.sub_id.to_list():\n",
    "    cp.get_rainseries_from_radklim(subbasin_id=id,\n",
    "                               event_id=\"nw_jul21\",\n",
    "                               subbasins_radolanproj=subbasins,\n",
    "                               original_event=event,\n",
    "                               original_centroid=original_centroid,\n",
    "                               radolan_projection=radolanproj,\n",
    "                               utm_projection=proj_utm,\n",
    "                               stereo_projection=proj_stereo\n",
    "                               )"
   ],
   "metadata": {
    "collapsed": false
   },
   "id": "9fbc0b955f934086"
  },
  {
   "cell_type": "markdown",
   "source": [
    "\n",
    "## Calculate effective precipitation\n",
    "We now transform the RADKLIM precipitation time series into effective precipitation. The curve numbers of the basins are stored in **output/gis/CN_subbasins_table.csv**"
   ],
   "metadata": {
    "collapsed": false
   },
   "id": "a0375b480f57832e"
  },
  {
   "cell_type": "code",
   "execution_count": 2,
   "outputs": [
    {
     "name": "stdout",
     "output_type": "stream",
     "text": [
      "Sub ID 1\n",
      "Sub ID 2\n",
      "Sub ID 3\n",
      "Sub ID 4\n",
      "Sub ID 5\n",
      "Sub ID 6\n",
      "Sub ID 7\n",
      "Sub ID 8\n",
      "Sub ID 9\n",
      "Sub ID 10\n",
      "Sub ID 11\n",
      "Sub ID 12\n",
      "Sub ID 13\n",
      "Sub ID 14\n",
      "Sub ID 15\n",
      "Sub ID 16\n",
      "Sub ID 17\n",
      "Sub ID 18\n",
      "Sub ID 19\n",
      "Sub ID 20\n",
      "Sub ID 21\n",
      "Sub ID 22\n",
      "Sub ID 23\n",
      "Sub ID 24\n",
      "Sub ID 25\n",
      "Sub ID 26\n",
      "Sub ID 27\n",
      "Sub ID 28\n",
      "Sub ID 29\n",
      "Sub ID 30\n",
      "Sub ID 31\n",
      "Sub ID 32\n",
      "Sub ID 33\n",
      "Sub ID 34\n",
      "Sub ID 35\n",
      "Sub ID 36\n",
      "Sub ID 37\n",
      "Sub ID 38\n",
      "Sub ID 39\n",
      "Sub ID 40\n",
      "Sub ID 41\n",
      "Sub ID 42\n",
      "Sub ID 43\n",
      "Sub ID 44\n",
      "Sub ID 45\n",
      "Sub ID 46\n",
      "Sub ID 47\n",
      "Sub ID 48\n",
      "Sub ID 49\n",
      "Sub ID 50\n",
      "Sub ID 51\n",
      "Sub ID 52\n",
      "Sub ID 53\n",
      "Sub ID 54\n",
      "Sub ID 55\n",
      "Sub ID 56\n"
     ]
    }
   ],
   "source": [
    "if not os.path.exists('output/effective_rainfall'):\n",
    "    os.mkdir('output/effective_rainfall')\n",
    "\n",
    "subbasins = gpd.read_file(\"output/gis/subbasins_info.gpkg\")\n",
    "\n",
    "for id in subbasins.sub_id.to_list():\n",
    "    cp.get_effective_rainfall(id)"
   ],
   "metadata": {
    "collapsed": false,
    "ExecuteTime": {
     "end_time": "2023-12-20T10:48:56.027242419Z",
     "start_time": "2023-12-20T10:47:46.589235569Z"
    }
   },
   "id": "83b9415a0546f2d2"
  },
  {
   "cell_type": "markdown",
   "source": [
    "If all these steps ran succesfully, we now have generated all input data necessary for the modelling of quick runoff. Proceed with Part 3"
   ],
   "metadata": {
    "collapsed": false
   },
   "id": "97accf9335c1d59b"
  }
 ],
 "metadata": {
  "kernelspec": {
   "display_name": "Python 3",
   "language": "python",
   "name": "python3"
  },
  "language_info": {
   "codemirror_mode": {
    "name": "ipython",
    "version": 2
   },
   "file_extension": ".py",
   "mimetype": "text/x-python",
   "name": "python",
   "nbconvert_exporter": "python",
   "pygments_lexer": "ipython2",
   "version": "2.7.6"
  }
 },
 "nbformat": 4,
 "nbformat_minor": 5
}
