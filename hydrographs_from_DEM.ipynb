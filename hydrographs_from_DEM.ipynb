{
 "cells": [
  {
   "cell_type": "markdown",
   "source": [
    "# Generate hydrographs from digital elevation model (DEM)\n",
    "This notebook demonstrates with a small examplary region (basin upstream of Altenahr, West Germany) how geomorphological unit hydrographs can be derived from a digital elevation model with a spatial resolution of 25m x 25m. Later on the hydrographs are the basis for the quick runoff (QR) modelling and allow for a large number of counterfacual simulations (see notebook XXXXXX.ipynb)."
   ],
   "metadata": {
    "collapsed": false
   },
   "id": "e3ab8204799874fe"
  },
  {
   "cell_type": "code",
   "execution_count": 1,
   "outputs": [],
   "source": [
    "import counterfactual_functions as cf\n",
    "import glob\n",
    "import os"
   ],
   "metadata": {
    "collapsed": false,
    "ExecuteTime": {
     "end_time": "2023-12-18T14:19:14.259428723Z",
     "start_time": "2023-12-18T14:19:11.077752866Z"
    }
   },
   "id": "55ea28ef95fd5fed"
  },
  {
   "cell_type": "code",
   "execution_count": 2,
   "outputs": [],
   "source": [
    "input_path = \"input/\""
   ],
   "metadata": {
    "collapsed": false,
    "ExecuteTime": {
     "end_time": "2023-12-18T14:19:14.270134258Z",
     "start_time": "2023-12-18T14:19:14.262784456Z"
    }
   },
   "id": "8a9d4373782a42ef"
  },
  {
   "cell_type": "markdown",
   "source": [
    "## Creation of basic rasters\n",
    "Firstly, we need to transform the DEM into the PCRaster format (\".map\"). Follwing rasters are then created using PCRaster functions. The detailed code can be viewed in the script `counterfactual functions.py`. All results are stored in the folder \"input/generated\".\n",
    "\n",
    "Following data is supplied in this repository:\n",
    "- **dem.tif**: DEM (ref) of the region of the Altenahr basin\n",
    "- **corine.gpkg**: CORINE (ref) landuse file of the Altenahr basin\n",
    "- **buek250_cn_classes.gpkg**: soil classes derived from soil map BUEK250 (ref) and manually classified to four soil classes according to the SCS-CN method (ref).\n",
    "- **scs.csv**:table which connects CORINE landuse codes (CLC18) to curve number values  \n",
    "\n",
    "Following data sets are computed in this script. These files are the basis for the computation of hydrographs.\n",
    "\n",
    "- sink filling is applied to the DEM (**dem_filled.map**)\n",
    "- flow direction grid (**flowdir.map**)\n",
    "- flow accumulation grid (**accu.map**)\n",
    "- raster and shapefile containing the subbasins (**subbasins.gpkg**, **subbasins_adjusted.map**)\n",
    "- raster containing the friction values, needed for traveltime calculation (**friction_maidment.map**)\n",
    "- raster containing the traveltime (in minutes, based on the method by Maidment et al., 1996) of every cell to its respective outlet (**tt_complete.map**)\n",
    "- shapefile containing the curve number values for every basin and soil moisture class (**soil_landuse_classes.gpkg**). This file is derived from the soil map BUEK250 and the\n",
    " landuse (files **buek250_cn_classes.gpkg** and **corine.gpkg**)\n",
    "Outlets are determined by the intersection of streams with the Strahler-oder 7 upwards with the functions cf.create_outlet_raster and cf.find_intersects and stored in the raster \"outlets.map\".\n",
    "\n",
    "Then outlet and flow direction raster are used to delineate the subbasins. Very small subbasins (< 0.45 km²) are removed with the function `counterfactual_functions.remove_small_subbasins`.\n",
    "\n",
    "\n",
    "\n"
   ],
   "metadata": {
    "collapsed": false
   },
   "id": "3c8eafb9bbecedfa"
  },
  {
   "cell_type": "code",
   "execution_count": 3,
   "outputs": [
    {
     "name": "stdout",
     "output_type": "stream",
     "text": [
      "Removing previous files\n",
      "Removing previous files\n",
      "Removing previous files\n",
      "Removing previous files\n",
      "Removing previous files\n",
      "Removing previous files\n",
      "Removing previous files\n",
      "Removing previous files\n",
      "Removing previous files\n",
      "Removing previous files\n",
      "Filling DEM\n",
      "Creating flow direction grid\n",
      "Creating accumulation grid\n",
      "Creating subbasin shape file and raster\n",
      "Removed 19 outlets\n",
      "The basin now contains 57 subbasins\n",
      "0...10...20...30...40...50...60...70...80...90...Creating output input/generated/subbasins_first.gpkg of format GPKG.\n",
      "100 - done.\n",
      "Making maidment friction map\n"
     ]
    },
    {
     "ename": "RuntimeError",
     "evalue": "Raster input/generated/outlets.map: can not be opened. Note: only the PCRaster file format is supported as input argument.\n",
     "output_type": "error",
     "traceback": [
      "\u001B[0;31m---------------------------------------------------------------------------\u001B[0m",
      "\u001B[0;31mRuntimeError\u001B[0m                              Traceback (most recent call last)",
      "Cell \u001B[0;32mIn[3], line 6\u001B[0m\n\u001B[1;32m      3\u001B[0m     \u001B[38;5;28mprint\u001B[39m(\u001B[38;5;124m\"\u001B[39m\u001B[38;5;124mRemoving previous files\u001B[39m\u001B[38;5;124m\"\u001B[39m)\n\u001B[1;32m      4\u001B[0m     os\u001B[38;5;241m.\u001B[39mremove(f)\n\u001B[0;32m----> 6\u001B[0m \u001B[43mcf\u001B[49m\u001B[38;5;241;43m.\u001B[39;49m\u001B[43mcreate_basic_files\u001B[49m\u001B[43m(\u001B[49m\u001B[43minput_path\u001B[49m\u001B[43m)\u001B[49m\n",
      "File \u001B[0;32m~/GIUH/paper_repo/counterfactual_flash_flood_analysis/counterfactual_functions.py:105\u001B[0m, in \u001B[0;36mcreate_basic_files\u001B[0;34m(input_path)\u001B[0m\n\u001B[1;32m    103\u001B[0m pcr\u001B[38;5;241m.\u001B[39msetclone(\u001B[38;5;124mf\u001B[39m\u001B[38;5;124m'\u001B[39m\u001B[38;5;132;01m{\u001B[39;00minput_path\u001B[38;5;132;01m}\u001B[39;00m\u001B[38;5;124mgenerated/dem_filled.map\u001B[39m\u001B[38;5;124m'\u001B[39m)\n\u001B[1;32m    104\u001B[0m flowdir \u001B[38;5;241m=\u001B[39m pcr\u001B[38;5;241m.\u001B[39mreadmap(\u001B[38;5;124mf\u001B[39m\u001B[38;5;124m'\u001B[39m\u001B[38;5;132;01m{\u001B[39;00minput_path\u001B[38;5;132;01m}\u001B[39;00m\u001B[38;5;124mgenerated/flowdir.map\u001B[39m\u001B[38;5;124m'\u001B[39m)\n\u001B[0;32m--> 105\u001B[0m outlets \u001B[38;5;241m=\u001B[39m \u001B[43mpcr\u001B[49m\u001B[38;5;241;43m.\u001B[39;49m\u001B[43mreadmap\u001B[49m\u001B[43m(\u001B[49m\u001B[38;5;124;43mf\u001B[39;49m\u001B[38;5;124;43m'\u001B[39;49m\u001B[38;5;132;43;01m{\u001B[39;49;00m\u001B[43minput_path\u001B[49m\u001B[38;5;132;43;01m}\u001B[39;49;00m\u001B[38;5;124;43mgenerated/outlets.map\u001B[39;49m\u001B[38;5;124;43m'\u001B[39;49m\u001B[43m)\u001B[49m\n\u001B[1;32m    106\u001B[0m friction \u001B[38;5;241m=\u001B[39m pcr\u001B[38;5;241m.\u001B[39mreadmap(\n\u001B[1;32m    107\u001B[0m     \u001B[38;5;124mf\u001B[39m\u001B[38;5;124m'\u001B[39m\u001B[38;5;132;01m{\u001B[39;00minput_path\u001B[38;5;132;01m}\u001B[39;00m\u001B[38;5;124mgenerated/friction_maidment.map\u001B[39m\u001B[38;5;124m'\u001B[39m)\n\u001B[1;32m    109\u001B[0m outlets_vals \u001B[38;5;241m=\u001B[39m pcr\u001B[38;5;241m.\u001B[39mpcr2numpy(outlets, \u001B[38;5;241m-\u001B[39m\u001B[38;5;241m99\u001B[39m)\n",
      "\u001B[0;31mRuntimeError\u001B[0m: Raster input/generated/outlets.map: can not be opened. Note: only the PCRaster file format is supported as input argument.\n"
     ]
    }
   ],
   "source": [
    "files = glob.glob(f'{input_path}generated/*')\n",
    "print(\"Removing previous files\")\n",
    "for f in files:\n",
    "    os.remove(f)\n",
    "    \n",
    "cf.create_basic_files(input_path)"
   ],
   "metadata": {
    "collapsed": false,
    "ExecuteTime": {
     "end_time": "2023-12-18T14:20:17.688138906Z",
     "start_time": "2023-12-18T14:19:16.490686311Z"
    }
   },
   "id": "1bb4411fd35c6494"
  },
  {
   "cell_type": "code",
   "execution_count": null,
   "outputs": [],
   "source": [
    "import pcraster as pcr\n",
    "test = pcr.readmap(\"/home/voit/GIUH/main_basins/ger/input/ger_accu.map\")"
   ],
   "metadata": {
    "collapsed": false
   },
   "id": "68d482858f382412"
  },
  {
   "cell_type": "code",
   "execution_count": 12,
   "outputs": [
    {
     "data": {
      "text/plain": "'/home/voit/GIUH/paper_repo/counterfactual_flash_flood_analysis'"
     },
     "execution_count": 12,
     "metadata": {},
     "output_type": "execute_result"
    }
   ],
   "source": [
    "os.getcwd()"
   ],
   "metadata": {
    "collapsed": false,
    "ExecuteTime": {
     "end_time": "2023-12-18T13:59:34.870944347Z",
     "start_time": "2023-12-18T13:59:34.843388005Z"
    }
   },
   "id": "f5139db2d0284ac1"
  },
  {
   "cell_type": "code",
   "execution_count": 14,
   "outputs": [
    {
     "data": {
      "text/plain": "'/home/voit/GIUH/paper_repo/counterfactual_flash_flood_analysis/input/generated'"
     },
     "execution_count": 14,
     "metadata": {},
     "output_type": "execute_result"
    }
   ],
   "source": [],
   "metadata": {
    "collapsed": false,
    "ExecuteTime": {
     "end_time": "2023-12-18T14:01:30.526278705Z",
     "start_time": "2023-12-18T14:01:30.503522784Z"
    }
   },
   "id": "189b8576f0589b51"
  },
  {
   "cell_type": "code",
   "execution_count": null,
   "outputs": [],
   "source": [],
   "metadata": {
    "collapsed": false
   },
   "id": "f04d950aae7e46fc"
  }
 ],
 "metadata": {
  "kernelspec": {
   "display_name": "Python 3",
   "language": "python",
   "name": "python3"
  },
  "language_info": {
   "codemirror_mode": {
    "name": "ipython",
    "version": 2
   },
   "file_extension": ".py",
   "mimetype": "text/x-python",
   "name": "python",
   "nbconvert_exporter": "python",
   "pygments_lexer": "ipython2",
   "version": "2.7.6"
  }
 },
 "nbformat": 4,
 "nbformat_minor": 5
}
